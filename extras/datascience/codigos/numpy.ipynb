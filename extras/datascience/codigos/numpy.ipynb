{
 "cells": [
  {
   "cell_type": "markdown",
   "id": "e438a477-574e-402d-bdbb-f9a065ea40c2",
   "metadata": {},
   "source": [
    "# Manual de numpy"
   ]
  },
  {
   "cell_type": "markdown",
   "id": "37d5a9d2-73d8-4e0e-932f-643ab06b6674",
   "metadata": {},
   "source": [
    " ¿Por que utilizar numpy en lugar de listas?. Porque numpy es más rápido que utilizar listas. numpy utiliza Fixed Type, por ejemplo int32 y se puede especificar el tamaño que queremos que utilice. Las listas almacenan más información porque guardan Size, Reference Count, Object Type y Object Value. numpy utiliza memoria continua mientas que las listas no. numpy no necesita hacer comprobaciones para cada uno de sus elemento debido a que todos los elemento en un arreglo numpy tienen el mismo tipo. Los arreglos en numpy tienen los mismos métodos que las listas normales y muchos otros más.\n",
    "Por lo anterior numpy es un remplazo para MATLAB, la instalación de python toma menos de 10 min y configurar un entorno también, mientras que la instalación de MATLAB toma entre 1 y 2 horas. En combinación con Matplotlib es una herramieta muy buena para realizar gráfica. Es el backend para otros paquetes como Pandas y es la base para realizar algoritmos de Machine Learnig."
   ]
  },
  {
   "cell_type": "markdown",
   "id": "06597735-3ced-45d2-885e-79496526f447",
   "metadata": {
    "tags": []
   },
   "source": [
    "## 1. Introducción (uso básico)"
   ]
  },
  {
   "cell_type": "markdown",
   "id": "688b84c8-c9f9-4384-a7df-57542b8e2805",
   "metadata": {},
   "source": [
    "Lo primero que hay que hacer es importa la libreria de numpy, tradicionalmente se hace de la siguiente manera:"
   ]
  },
  {
   "cell_type": "code",
   "execution_count": 30,
   "id": "e1e36219-c38b-4c5d-89ff-9fa1767dc7d5",
   "metadata": {},
   "outputs": [],
   "source": [
    "import numpy as np"
   ]
  },
  {
   "cell_type": "markdown",
   "id": "4e2fcf52-5d8f-4815-808e-1806ea12a290",
   "metadata": {},
   "source": [
    "Para declarar un arreglo sencillo en numpy o un vector 1D lo hacemos de la siguiente manera:"
   ]
  },
  {
   "cell_type": "code",
   "execution_count": 31,
   "id": "c9c81b87-c6b8-4f13-a9e1-4bf731d639a4",
   "metadata": {},
   "outputs": [
    {
     "name": "stdout",
     "output_type": "stream",
     "text": [
      "[1 3 5]\n",
      "<class 'numpy.ndarray'>\n",
      "1\n",
      "(3,)\n",
      "int32\n",
      "4\n",
      "3\n",
      "12\n"
     ]
    }
   ],
   "source": [
    "a = np.array([1,3,5])\n",
    "print(a); print(type(a)); print(a.ndim); print(a.shape); print(a.dtype); print(a.itemsize); print(a.size); print(a.nbytes)\n",
    "#print(dir(a))"
   ]
  },
  {
   "cell_type": "markdown",
   "id": "d5ca0213-393b-4ecd-9918-4b23e83b5e77",
   "metadata": {},
   "source": [
    "como podemos notar, se utiliza el método `np.array()` el cual toma como argumento una lista de python."
   ]
  },
  {
   "cell_type": "markdown",
   "id": "97fb1a6c-6c8e-419f-ad6e-d176c8e55ae2",
   "metadata": {},
   "source": [
    "Para crear una matriz 2x2 lo podemos hacer pasando una lista de listas de la siguiente manera:"
   ]
  },
  {
   "cell_type": "code",
   "execution_count": 33,
   "id": "a79b7bff-9b72-46fe-99e4-ecf42e548dbc",
   "metadata": {},
   "outputs": [
    {
     "name": "stdout",
     "output_type": "stream",
     "text": [
      "[[1.1 2.2 3.3]\n",
      " [4.4 5.5 6.6]]\n",
      "<class 'numpy.ndarray'>\n",
      "2\n",
      "(2, 3)\n",
      "float64\n",
      "8\n",
      "6\n",
      "48\n"
     ]
    }
   ],
   "source": [
    "b = np.array( [ [1.1,2.2,3.3],[4.4,5.5,6.6] ] )\n",
    "print(b); print(type(b)); print(b.ndim); print(b.shape); print(b.dtype); print(b.itemsize); print(b.size); print(b.nbytes)\n",
    "#print(dir(b))"
   ]
  },
  {
   "cell_type": "markdown",
   "id": "2582364f-6658-44b3-8a66-384e01dc2bf0",
   "metadata": {},
   "source": [
    "## 2. Arreglos"
   ]
  },
  {
   "cell_type": "markdown",
   "id": "5e03c8d8-f74b-4c92-817e-a928d6e2fcfa",
   "metadata": {},
   "source": [
    "Ya vimos como crear arreglos apartir de listas, sin embardo numpy tiene maneras más eficientes de crear arreglos, acontinuación se muestran algunas de las más importantes:\n",
    "\n",
    "| Tipo básico | Código |\n",
    "| --- | --- |\n",
    "| Matriz | `a = np.array( [ [1,2], [3,4] ] )` |\n",
    "| Escalar | `b = np.array( [ [1] ] )` |\n",
    "| Vector renglón | `c = np.array( [ [1,2,3,4]] )` |\n",
    "| Vector columna | `d = np.array( [ [1],[2],[3],[4] ] )` |\n"
   ]
  },
  {
   "cell_type": "code",
   "execution_count": 34,
   "id": "445ec6a2-edd6-4d81-b56e-525674453363",
   "metadata": {},
   "outputs": [
    {
     "name": "stdout",
     "output_type": "stream",
     "text": [
      "[[1 2]\n",
      " [3 4]]\n",
      "(2, 2)\n",
      "4\n",
      "\n",
      "[[1]]\n",
      "(1, 1)\n",
      "1\n",
      "\n",
      "[[1 2 3 4]]\n",
      "(1, 4)\n",
      "4\n",
      "\n",
      "[[1]\n",
      " [2]\n",
      " [3]\n",
      " [4]]\n",
      "(4, 1)\n",
      "4\n",
      "\n"
     ]
    }
   ],
   "source": [
    "a = np.array( [ [1,2], [3,4] ] ); print(a); print(a.shape); print(a.size); print('')\n",
    "b = np.array( [ [1] ] ); print(b); print(b.shape); print(b.size);print('')\n",
    "c = np.array( [ [1,2,3,4]] ); print(c); print(c.shape); print(c.size);print('')\n",
    "d = np.array( [ [1],[2],[3],[4] ] ); print(d); print(d.shape); print(d.size); print('')"
   ]
  },
  {
   "cell_type": "markdown",
   "id": "da41ae88-8abb-40c6-9356-b756bace9b34",
   "metadata": {},
   "source": [
    "### Funciones para crear arreglos"
   ]
  },
  {
   "cell_type": "markdown",
   "id": "a74a655a-da2a-4d69-bfb8-5152584c5831",
   "metadata": {},
   "source": [
    "En la siguiente tabla estan algunas de las funciones con arreglos más importantes:\n",
    "\n",
    "| Comando | Descripción |\n",
    "| --- | --- |\n",
    "| |  |\n",
    "| | |\n",
    "| | |\n",
    "| | |"
   ]
  },
  {
   "cell_type": "code",
   "execution_count": 101,
   "id": "ff9c1e07-f4d6-4842-81a0-b08750e69fbd",
   "metadata": {},
   "outputs": [
    {
     "name": "stdout",
     "output_type": "stream",
     "text": [
      "[ 0  1  2  3  4  5  6  7  8  9 10]\n",
      "(11,)\n",
      "\n",
      "[ 1  2  3  4  5  6  7  8  9 10]\n",
      "(10,)\n",
      "\n",
      "[ 0  2  4  6  8 10]\n",
      "(6,)\n",
      "\n",
      "[1.  1.5 2.  2.5 3.  3.5 4.  4.5 5. ]\n",
      "(9,)\n",
      "\n",
      "[0.63052722 0.21318364 0.81184982 0.65059747 0.11791081]\n",
      "(5,)\n",
      "\n",
      "[[0.76942196 0.34165755]\n",
      " [0.47504416 0.340768  ]]\n",
      "(2, 2)\n",
      "\n",
      "[1 1 6 0 5]\n",
      "(5,)\n",
      "\n",
      "[[2 7]\n",
      " [7 7]]\n",
      "(2, 2)\n",
      "\n",
      "[1. 1. 1. 1. 1.]\n",
      "(5,)\n",
      "\n",
      "[[1. 1.]\n",
      " [1. 1.]]\n",
      "(2, 2)\n",
      "\n",
      "[0. 0. 0. 0. 0.]\n",
      "(5,)\n",
      "\n",
      "[[0. 0.]\n",
      " [0. 0.]]\n",
      "(2, 2)\n",
      "\n",
      "[[1. 0. 0.]\n",
      " [0. 1. 0.]\n",
      " [0. 0. 1.]]\n",
      "(3, 3)\n",
      "\n",
      "[[1 0 0]\n",
      " [0 2 0]\n",
      " [0 0 3]]\n",
      "(3, 3)\n",
      "\n"
     ]
    }
   ],
   "source": [
    "a = np.arange(11); print(a); print(a.shape); print('')\n",
    "a = np.arange(1,11); print(a); print(a.shape); print('')\n",
    "a = np.arange(0,11,2); print(a); print(a.shape); print('')\n",
    "a = np.linspace(1,5,9); print(a); print(a.shape); print('')\n",
    "a = np.random.uniform( size=(5) ); print(a); print(a.shape); print('')\n",
    "a = np.random.uniform( size=(2,2) ); print(a); print(a.shape); print('')\n",
    "a = np.random.randint(10, size=(5) ); print(a); print(a.shape); print('')\n",
    "a = np.random.randint(1, high = 10,size=(2,2) ); print(a); print(a.shape); print('')\n",
    "a = np.ones(5); print(a); print(a.shape); print('')\n",
    "a = np.ones((2,2)); print(a); print(a.shape); print('')\n",
    "a = np.zeros(5); print(a); print(a.shape); print('')\n",
    "a = np.zeros((2,2)); print(a); print(a.shape); print('')\n",
    "a = np.identity(3); print(a); print(a.shape); print('')\n",
    "a = np.diag([1,2,3]); print(a); print(a.shape); print('')"
   ]
  },
  {
   "cell_type": "code",
   "execution_count": 62,
   "id": "86df4d3a-474c-4f2e-9cbc-e89d16a0dc80",
   "metadata": {},
   "outputs": [
    {
     "name": "stdout",
     "output_type": "stream",
     "text": [
      "[[1 2 3]\n",
      " [4 5 6]\n",
      " [7 8 9]]\n",
      "(3, 3)\n",
      "\n",
      "[[ 1  2  3  4  5  6]\n",
      " [ 7  8  9 10 11 12]]\n",
      "(2, 6)\n",
      "\n",
      "[[ 1  7]\n",
      " [ 2  8]\n",
      " [ 3  9]\n",
      " [ 4 10]\n",
      " [ 5 11]\n",
      " [ 6 12]]\n",
      "(6, 2)\n",
      "\n",
      "[[ 1  2  3  4]\n",
      " [ 5  6  7  8]\n",
      " [ 9 10 11 12]\n",
      " [13 14 15 16]]\n",
      "(4, 4)\n",
      "\n",
      "[ 1  2  3  4  5  6  7  8  9 10 11 12 13 14 15 16]\n",
      "(16,)\n",
      "\n"
     ]
    }
   ],
   "source": [
    "a = np.arange(1,10).reshape((3,3)); print(a); print(a.shape); print('')\n",
    "a = np.arange(1,13); a = np.reshape(a, (2,6)); print(a); print(a.shape); print('')\n",
    "a = np.arange(1,13).reshape((2,6)).transpose(); print(a); print(a.shape); print('')\n",
    "a = np.arange(1,17).reshape((4,4)); print(a); print(a.shape); print('')\n",
    "a = a.flatten(); print(a); print(a.shape); print('')"
   ]
  },
  {
   "cell_type": "markdown",
   "id": "7dd89f0d-5cd9-4345-bec1-30df744971d4",
   "metadata": {},
   "source": [
    "## 3. Indexación"
   ]
  },
  {
   "cell_type": "markdown",
   "id": "e40a4421-06f0-4727-bbbf-eae3303b05ec",
   "metadata": {},
   "source": [
    "La indexación es la forma de poder extraer y modificar los valores de los arreglos. La posición de un valor dentro de un arreglo es su índice. El índice se puede utilizar para extraer valores concretos.\n",
    "\n",
    "Supongamos un vector de la forma `x = np.arange(1,11) `, entonces podemos realizar las siguientes indexaciones:\n",
    "\n",
    "| Comando | Descripción |\n",
    "| --- | --- |\n",
    "| |  |\n",
    "| | |\n",
    "| | |\n",
    "| | |\n"
   ]
  },
  {
   "cell_type": "code",
   "execution_count": 128,
   "id": "ed729081-4712-4d6e-b742-0b57aa221712",
   "metadata": {},
   "outputs": [
    {
     "name": "stdout",
     "output_type": "stream",
     "text": [
      "[ 1  2  3  4  5  6  7  8  9 10]\n",
      "(10,)\n",
      "10\n",
      "\n",
      "1\n",
      "\n",
      "10\n",
      "\n",
      "[2 3 4 5]\n",
      "\n",
      "[1 2 3 4 5]\n",
      "\n",
      "[ 4  5  6  7  8  9 10]\n",
      "\n",
      "[1 2 3 4 5 6 7 8 9]\n",
      "\n",
      "[1 3 5 7 9]\n",
      "\n",
      "[10  9  8  7  6  5  4  3  2  1]\n",
      "\n",
      "[10  8  6  4  2]\n",
      "\n",
      "[ 1  2  3  4  5  6  7  8  9 10]\n",
      "\n"
     ]
    }
   ],
   "source": [
    "x = np.arange(1,11); print(x); print(x.shape); print(x.size); print('')\n",
    "print(x[0]); print('')         # Primer elemento\n",
    "print(x[-1]); print('')        # Ultimo elemento\n",
    "print(x[1:5]); print('')       # Desde el indice 1 hasta el indice 4\n",
    "print(x[:5]); print('')        # Desde el primer al cuarto indice\n",
    "print(x[3:]); print('')        # Desde el indice 3 al ultimo\n",
    "print(x[:-1]); print('')       # Dede el primer al penultimo indice\n",
    "print(x[::2]); print('')       # Desde el primer al ultimo indice en pasos de 2\n",
    "print(x[::-1]); print('')      # Voltear el arreglo\n",
    "print(x[::-1][::2]); print('') # Voltear el arreglo con un paso de 2\n",
    "print(x[:]); print('')         # Todo el arreglo"
   ]
  },
  {
   "cell_type": "markdown",
   "id": "12d7634e-d3d8-4b9a-8273-b35dcb754317",
   "metadata": {},
   "source": [
    "Supongamos un vector de la forma `x = np.arange(1,10).reshape((3,3))` , entonces podemos realizar las siguientes indexaciones:"
   ]
  },
  {
   "cell_type": "code",
   "execution_count": 166,
   "id": "6f6f5907-dd98-44b7-ab10-661daa445bf2",
   "metadata": {},
   "outputs": [
    {
     "name": "stdout",
     "output_type": "stream",
     "text": [
      "[[1 2 3]\n",
      " [4 5 6]\n",
      " [7 8 9]]\n",
      "(3, 3)\n",
      "9\n",
      "\n",
      "5\n",
      "\n",
      "1\n",
      "\n",
      "[4 5 6]\n",
      "\n",
      "[[4 5 6]\n",
      " [7 8 9]]\n",
      "\n",
      "[7 8 9]\n",
      "\n",
      "[1 4 7]\n",
      "\n",
      "[3 6 9]\n",
      "\n",
      "[[1 2]\n",
      " [4 5]\n",
      " [7 8]]\n",
      "\n",
      "[[1 3]\n",
      " [4 6]\n",
      " [7 9]]\n",
      "\n",
      "[[5 6]\n",
      " [8 9]]\n",
      "\n",
      "[[ 1  2 99]\n",
      " [ 4  5 99]\n",
      " [ 7  8 99]]\n"
     ]
    }
   ],
   "source": [
    "x = np.arange(1,10).reshape((3,3)); print(x); print(x.shape); print(x.size); print('')\n",
    "print(x[1,1]); print('')     # Indice 1,1  5\n",
    "print(x[0,0]); print('')     # Indice 0,0  1\n",
    "\n",
    "print(x[1,:]); print('')     # Renglon 2\n",
    "print(x[1:3,:]); print('')   # Renglon 2 y 3\n",
    "print(x[-1,:]); print('')    # Ultimo renglon\n",
    "\n",
    "print(x[:,0]); print('')     # Primera columna\n",
    "print(x[:,-1]); print('')    # Ultima columna\n",
    "print(x[:,:2]); print('')    # Todos los renglones, columna 0 a 1\n",
    "print(x[:,[0,2]]); print('') # Todos los renglones, columna 0 y 2\n",
    "print(x[1:,1:]); print('')   # Submatriz\n"
   ]
  },
  {
   "cell_type": "code",
   "execution_count": null,
   "id": "a637e07c-2f81-4dae-83a1-6f11b9dd14dc",
   "metadata": {},
   "outputs": [],
   "source": []
  }
 ],
 "metadata": {
  "kernelspec": {
   "display_name": "Python 3 (ipykernel)",
   "language": "python",
   "name": "python3"
  },
  "language_info": {
   "codemirror_mode": {
    "name": "ipython",
    "version": 3
   },
   "file_extension": ".py",
   "mimetype": "text/x-python",
   "name": "python",
   "nbconvert_exporter": "python",
   "pygments_lexer": "ipython3",
   "version": "3.9.10"
  }
 },
 "nbformat": 4,
 "nbformat_minor": 5
}
