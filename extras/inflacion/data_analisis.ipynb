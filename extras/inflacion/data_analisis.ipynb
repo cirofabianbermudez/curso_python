{
 "cells": [
  {
   "cell_type": "code",
   "execution_count": 40,
   "id": "05b3de07-9643-47a4-94e9-7d563cd71deb",
   "metadata": {},
   "outputs": [
    {
     "data": {
      "image/png": "[encoded data removed]",
      "text/plain": [
       "<Figure size 432x288 with 1 Axes>"
      ]
     },
     "metadata": {
      "needs_background": "light"
     },
     "output_type": "display_data"
    }
   ],
   "source": [
    "import numpy as np\n",
    "import matplotlib.pyplot as plt\n",
    "import pandas as pd\n",
    "\n",
    "#%matplotlib widget\n",
    "\n",
    "df = pd.read_csv('indicadores.csv', encoding = 'utf-16le', skiprows=4)\n",
    "df.rename(columns={'583753': 'Inflacion'}, inplace=True)\n",
    "df['Periodos_new'] = pd.to_datetime(df['Periodos'])\n",
    "\n",
    "#plt.rc('text', usetex=True)\n",
    "#plt.rc('font', family='serif')\n",
    "\n",
    "#plt.figure(figsize = (6.8, 4.8))\n",
    "plt.locator_params(axis='y', tight= True,nbins=10)\n",
    "plt.plot( df['Periodos_new'], df['Inflacion'] ,'k', linewidth=1.0, label=r'1970/01 a 2022/02')\n",
    "plt.title(r'Inflación de 1970/01 a 2022/02', size=12) \n",
    "plt.ylabel(r'Inflación')\n",
    "plt.xlabel(r'Años')\n",
    "plt.legend()\n",
    "plt.axis([ df.loc[0,'Periodos_new'] , df.loc[625,'Periodos_new'] , 0, max( df['Inflacion']*1.05 ) ])\n",
    "#plt.ylim(1,8000)\n",
    "#plt.xlim(0,9)\n",
    "\n",
    "#Data tips 1\n",
    "idx1 = df['Inflacion'].idxmax()\n",
    "p1 = [df.loc[idx1,'Periodos_new'],df.loc[idx1,'Inflacion']]\n",
    "text1 = str(df.loc[idx1,'Periodos']) + ', ' +  str(df.loc[idx1,'Inflacion']) \n",
    "plt.annotate(text1,xy=p1, arrowprops=dict(arrowstyle='->'), xytext=(df.loc[idx1-120,'Periodos_new'], p1[1]-1), fontsize=6 )\n",
    "\n",
    "plt.grid(visible=True, which='major', axis='both', color='#dedede', linestyle='-', alpha=0.4)\n",
    "plt.grid(visible=True, which='minor', axis='y', color='#c5c5c5', linestyle=':', alpha=0.2)\n",
    "plt.minorticks_on()  \n",
    "\n",
    "#plt.savefig('inflacion2.pdf')\n",
    "plt.show()"
   ]
  },
  {
   "cell_type": "code",
   "execution_count": 19,
   "id": "a0e974e2-c8a4-48ca-b8a6-71e938ce1c56",
   "metadata": {},
   "outputs": [
    {
     "data": {
      "text/plain": [
       "217"
      ]
     },
     "execution_count": 30,
     "metadata": {},
     "output_type": "execute_result"
    }
   ],
   "source": [
    "df['Inflacion'].idxmax()"
   ]
  },
  {
   "cell_type": "code",
   "execution_count": 18,
   "id": "e3c7be24-39c7-4bad-85a3-a92bc82fee2a",
   "metadata": {},
   "outputs": [
    {
     "data": {
      "text/plain": [
       "Periodos     1988-02-01 00:00:00\n",
       "Inflacion                 179.73\n",
       "Name: 217, dtype: object"
      ]
     },
     "execution_count": 18,
     "metadata": {},
     "output_type": "execute_result"
    }
   ],
   "source": [
    "df.loc[217]"
   ]
  },
  {
   "cell_type": "code",
   "execution_count": 26,
   "id": "cce1dca1-96d8-418e-a9c5-1ec454e1d112",
   "metadata": {},
   "outputs": [
    {
     "data": {
      "text/plain": [
       "\"(Timestamp('1988-02-01 00:00:00'), 179.73)\""
      ]
     },
     "execution_count": 26,
     "metadata": {},
     "output_type": "execute_result"
    }
   ],
   "source": [
    "str(p1)"
   ]
  },
  {
   "cell_type": "code",
   "execution_count": 14,
   "id": "0be7ba09-a6bc-4a95-a185-1f47bfc38f55",
   "metadata": {},
   "outputs": [
    {
     "data": {
      "text/html": [
       "<div>\n",
       "<style scoped>\n",
       "    .dataframe tbody tr th:only-of-type {\n",
       "        vertical-align: middle;\n",
       "    }\n",
       "\n",
       "    .dataframe tbody tr th {\n",
       "        vertical-align: top;\n",
       "    }\n",
       "\n",
       "    .dataframe thead th {\n",
       "        text-align: right;\n",
       "    }\n",
       "</style>\n",
       "<table border=\"1\" class=\"dataframe\">\n",
       "  <thead>\n",
       "    <tr style=\"text-align: right;\">\n",
       "      <th></th>\n",
       "      <th>Periodos</th>\n",
       "      <th>Inflacion</th>\n",
       "      <th>Periodos_new</th>\n",
       "    </tr>\n",
       "  </thead>\n",
       "  <tbody>\n",
       "    <tr>\n",
       "      <th>0</th>\n",
       "      <td>1970/01</td>\n",
       "      <td>5.20</td>\n",
       "      <td>1970-01-01</td>\n",
       "    </tr>\n",
       "    <tr>\n",
       "      <th>1</th>\n",
       "      <td>1970/02</td>\n",
       "      <td>4.81</td>\n",
       "      <td>1970-02-01</td>\n",
       "    </tr>\n",
       "    <tr>\n",
       "      <th>2</th>\n",
       "      <td>1970/03</td>\n",
       "      <td>5.01</td>\n",
       "      <td>1970-03-01</td>\n",
       "    </tr>\n",
       "    <tr>\n",
       "      <th>3</th>\n",
       "      <td>1970/04</td>\n",
       "      <td>4.87</td>\n",
       "      <td>1970-04-01</td>\n",
       "    </tr>\n",
       "    <tr>\n",
       "      <th>4</th>\n",
       "      <td>1970/05</td>\n",
       "      <td>5.09</td>\n",
       "      <td>1970-05-01</td>\n",
       "    </tr>\n",
       "    <tr>\n",
       "      <th>...</th>\n",
       "      <td>...</td>\n",
       "      <td>...</td>\n",
       "      <td>...</td>\n",
       "    </tr>\n",
       "    <tr>\n",
       "      <th>621</th>\n",
       "      <td>2021/10</td>\n",
       "      <td>6.24</td>\n",
       "      <td>2021-10-01</td>\n",
       "    </tr>\n",
       "    <tr>\n",
       "      <th>622</th>\n",
       "      <td>2021/11</td>\n",
       "      <td>7.37</td>\n",
       "      <td>2021-11-01</td>\n",
       "    </tr>\n",
       "    <tr>\n",
       "      <th>623</th>\n",
       "      <td>2021/12</td>\n",
       "      <td>7.36</td>\n",
       "      <td>2021-12-01</td>\n",
       "    </tr>\n",
       "    <tr>\n",
       "      <th>624</th>\n",
       "      <td>2022/01</td>\n",
       "      <td>7.07</td>\n",
       "      <td>2022-01-01</td>\n",
       "    </tr>\n",
       "    <tr>\n",
       "      <th>625</th>\n",
       "      <td>2022/02</td>\n",
       "      <td>7.28</td>\n",
       "      <td>2022-02-01</td>\n",
       "    </tr>\n",
       "  </tbody>\n",
       "</table>\n",
       "<p>626 rows × 3 columns</p>\n",
       "</div>"
      ],
      "text/plain": [
       "    Periodos  Inflacion Periodos_new\n",
       "0    1970/01       5.20   1970-01-01\n",
       "1    1970/02       4.81   1970-02-01\n",
       "2    1970/03       5.01   1970-03-01\n",
       "3    1970/04       4.87   1970-04-01\n",
       "4    1970/05       5.09   1970-05-01\n",
       "..       ...        ...          ...\n",
       "621  2021/10       6.24   2021-10-01\n",
       "622  2021/11       7.37   2021-11-01\n",
       "623  2021/12       7.36   2021-12-01\n",
       "624  2022/01       7.07   2022-01-01\n",
       "625  2022/02       7.28   2022-02-01\n",
       "\n",
       "[626 rows x 3 columns]"
      ]
     },
     "execution_count": 16,
     "metadata": {},
     "output_type": "execute_result"
    }
   ],
   "source": []
  },
  {
   "cell_type": "code",
   "execution_count": 39,
   "id": "b616ba44-4d22-4c9c-87dc-174ce130bda3",
   "metadata": {},
   "outputs": [
    {
     "data": {
      "text/html": [
       "<div>\n",
       "<style scoped>\n",
       "    .dataframe tbody tr th:only-of-type {\n",
       "        vertical-align: middle;\n",
       "    }\n",
       "\n",
       "    .dataframe tbody tr th {\n",
       "        vertical-align: top;\n",
       "    }\n",
       "\n",
       "    .dataframe thead th {\n",
       "        text-align: right;\n",
       "    }\n",
       "</style>\n",
       "<table border=\"1\" class=\"dataframe\">\n",
       "  <thead>\n",
       "    <tr style=\"text-align: right;\">\n",
       "      <th></th>\n",
       "      <th>Periodos</th>\n",
       "      <th>Inflacion</th>\n",
       "      <th>Periodos_new</th>\n",
       "    </tr>\n",
       "  </thead>\n",
       "  <tbody>\n",
       "    <tr>\n",
       "      <th>0</th>\n",
       "      <td>1970/01</td>\n",
       "      <td>5.20</td>\n",
       "      <td>1970-01-01</td>\n",
       "    </tr>\n",
       "    <tr>\n",
       "      <th>1</th>\n",
       "      <td>1970/02</td>\n",
       "      <td>4.81</td>\n",
       "      <td>1970-02-01</td>\n",
       "    </tr>\n",
       "    <tr>\n",
       "      <th>2</th>\n",
       "      <td>1970/03</td>\n",
       "      <td>5.01</td>\n",
       "      <td>1970-03-01</td>\n",
       "    </tr>\n",
       "    <tr>\n",
       "      <th>3</th>\n",
       "      <td>1970/04</td>\n",
       "      <td>4.87</td>\n",
       "      <td>1970-04-01</td>\n",
       "    </tr>\n",
       "    <tr>\n",
       "      <th>4</th>\n",
       "      <td>1970/05</td>\n",
       "      <td>5.09</td>\n",
       "      <td>1970-05-01</td>\n",
       "    </tr>\n",
       "    <tr>\n",
       "      <th>...</th>\n",
       "      <td>...</td>\n",
       "      <td>...</td>\n",
       "      <td>...</td>\n",
       "    </tr>\n",
       "    <tr>\n",
       "      <th>621</th>\n",
       "      <td>2021/10</td>\n",
       "      <td>6.24</td>\n",
       "      <td>2021-10-01</td>\n",
       "    </tr>\n",
       "    <tr>\n",
       "      <th>622</th>\n",
       "      <td>2021/11</td>\n",
       "      <td>7.37</td>\n",
       "      <td>2021-11-01</td>\n",
       "    </tr>\n",
       "    <tr>\n",
       "      <th>623</th>\n",
       "      <td>2021/12</td>\n",
       "      <td>7.36</td>\n",
       "      <td>2021-12-01</td>\n",
       "    </tr>\n",
       "    <tr>\n",
       "      <th>624</th>\n",
       "      <td>2022/01</td>\n",
       "      <td>7.07</td>\n",
       "      <td>2022-01-01</td>\n",
       "    </tr>\n",
       "    <tr>\n",
       "      <th>625</th>\n",
       "      <td>2022/02</td>\n",
       "      <td>7.28</td>\n",
       "      <td>2022-02-01</td>\n",
       "    </tr>\n",
       "  </tbody>\n",
       "</table>\n",
       "<p>626 rows × 3 columns</p>\n",
       "</div>"
      ],
      "text/plain": [
       "    Periodos  Inflacion Periodos_new\n",
       "0    1970/01       5.20   1970-01-01\n",
       "1    1970/02       4.81   1970-02-01\n",
       "2    1970/03       5.01   1970-03-01\n",
       "3    1970/04       4.87   1970-04-01\n",
       "4    1970/05       5.09   1970-05-01\n",
       "..       ...        ...          ...\n",
       "621  2021/10       6.24   2021-10-01\n",
       "622  2021/11       7.37   2021-11-01\n",
       "623  2021/12       7.36   2021-12-01\n",
       "624  2022/01       7.07   2022-01-01\n",
       "625  2022/02       7.28   2022-02-01\n",
       "\n",
       "[626 rows x 3 columns]"
      ]
     },
     "execution_count": 39,
     "metadata": {},
     "output_type": "execute_result"
    }
   ],
   "source": [
    "pd.set_option('display.max_rows',100)\n",
    "df"
   ]
  },
  {
   "cell_type": "code",
   "execution_count": null,
   "id": "8e59b2ad-914a-46c1-bf8d-5d822f421950",
   "metadata": {},
   "outputs": [],
   "source": []
  }
 ],
 "metadata": {
  "kernelspec": {
   "display_name": "Python 3 (ipykernel)",
   "language": "python",
   "name": "python3"
  },
  "language_info": {
   "codemirror_mode": {
    "name": "ipython",
    "version": 3
   },
   "file_extension": ".py",
   "mimetype": "text/x-python",
   "name": "python",
   "nbconvert_exporter": "python",
   "pygments_lexer": "ipython3",
   "version": "3.9.10"
  }
 },
 "nbformat": 4,
 "nbformat_minor": 5
}
