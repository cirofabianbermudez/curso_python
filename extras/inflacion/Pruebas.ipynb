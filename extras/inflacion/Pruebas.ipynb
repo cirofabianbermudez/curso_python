{
 "cells": [
  {
   "cell_type": "code",
   "execution_count": 14,
   "id": "a1167ef4-aa8c-4e1b-aa71-1b1ca75ef107",
   "metadata": {},
   "outputs": [
    {
     "name": "stdout",
     "output_type": "stream",
     "text": [
      "         DOB\n",
      "0  26/1/2016\n",
      "1  26/1/2016\n"
     ]
    }
   ],
   "source": [
    "import pandas as pd\n",
    "\n",
    "df = pd.DataFrame({'DOB': {0: '26/1/2016', 1: '26/1/2016'}})\n",
    "print (df)"
   ]
  },
  {
   "cell_type": "code",
   "execution_count": 15,
   "id": "cb4e1371-869b-4b6b-be45-d72889af39fb",
   "metadata": {},
   "outputs": [
    {
     "name": "stdout",
     "output_type": "stream",
     "text": [
      "         DOB\n",
      "0 2016-01-26\n",
      "1 2016-01-26\n"
     ]
    }
   ],
   "source": [
    "df['DOB'] = pd.to_datetime(df.DOB)\n",
    "print (df)\n"
   ]
  },
  {
   "cell_type": "code",
   "execution_count": 16,
   "id": "ac25e992-f111-4681-8696-e192f80d7350",
   "metadata": {},
   "outputs": [
    {
     "name": "stdout",
     "output_type": "stream",
     "text": [
      "         DOB        DOB1\n",
      "0 2016-01-26  01/26/2016\n",
      "1 2016-01-26  01/26/2016\n"
     ]
    }
   ],
   "source": [
    "df['DOB1'] = df['DOB'].dt.strftime('%m/%d/%Y')\n",
    "print (df)"
   ]
  },
  {
   "cell_type": "code",
   "execution_count": null,
   "id": "50ba42c0-08d6-401a-942d-8ad1856566aa",
   "metadata": {},
   "outputs": [],
   "source": []
  }
 ],
 "metadata": {
  "kernelspec": {
   "display_name": "Python 3 (ipykernel)",
   "language": "python",
   "name": "python3"
  },
  "language_info": {
   "codemirror_mode": {
    "name": "ipython",
    "version": 3
   },
   "file_extension": ".py",
   "mimetype": "text/x-python",
   "name": "python",
   "nbconvert_exporter": "python",
   "pygments_lexer": "ipython3",
   "version": "3.9.10"
  }
 },
 "nbformat": 4,
 "nbformat_minor": 5
}
